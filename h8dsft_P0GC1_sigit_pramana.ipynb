{
  "cells": [
    {
      "cell_type": "markdown",
      "metadata": {
        "id": "view-in-github",
        "colab_type": "text"
      },
      "source": [
        "<a href=\"https://colab.research.google.com/github/pram2601/Hacktiv8/blob/main/h8dsft_P0GC1_sigit_pramana.ipynb\" target=\"_parent\"><img src=\"https://colab.research.google.com/assets/colab-badge.svg\" alt=\"Open In Colab\"/></a>"
      ]
    },
    {
      "cell_type": "markdown",
      "metadata": {
        "id": "DHEUKs6y08b4"
      },
      "source": [
        "# Graded Challenge 1\n",
        "`Sigit Pramana FTDS RMT 018`"
      ]
    },
    {
      "cell_type": "markdown",
      "metadata": {
        "id": "625xV8pT08b6"
      },
      "source": [
        "## Description\n",
        "\n",
        "### Objective\n",
        "\n",
        "`Data Covid di Russia Tahun 2021 berisikan tabel, negara,provinsi \ttanggal, terkonfirmasi, meninggal, sembuh, dan aktif`\n",
        "\n",
        "### Problem Statement\n",
        "\n",
        "1. Apakah ada hari dimana tidak ada yang meninggal?\n",
        "2. Adakah jumlah yang meninggal dalam sehari yang lebih dari 35000?\n",
        "3. Adakah jumlah kematian di provinsi Adygea Republic kurang dari 100?\n",
        "4. Jumlah Provinsi di Russia ada berapa?\n",
        "5. Jumlah total yang meninggal di Russia pada tahun 2021?\n",
        "6. Jumlah yang meninggal terbanyak dalam satu hari ada berapa dan dimana?\n",
        "7. Grafik Jumlah Kasus Terkonfirmasi di Provinsi Adegya Republik Selama 2021\n",
        "8. Grafik Jumlah Kematian di Provinsi Adegya Republik Selama Bulan Januari 2021\n",
        "9. Grafik Jumlah Kematian di Provinsi Adegya Republik Selama 2021 dilihat perbulan"
      ]
    },
    {
      "cell_type": "markdown",
      "metadata": {
        "id": "KcXYM9ZB08b7"
      },
      "source": [
        "## Working Area"
      ]
    },
    {
      "cell_type": "markdown",
      "source": [
        "###Library"
      ],
      "metadata": {
        "id": "7V2EhKAg63S9"
      }
    },
    {
      "cell_type": "code",
      "execution_count": 13,
      "metadata": {
        "id": "fkjwTQGX08b8"
      },
      "outputs": [],
      "source": [
        "# Library\n",
        "import pandas as pd"
      ]
    },
    {
      "cell_type": "markdown",
      "source": [
        "### Data Loading"
      ],
      "metadata": {
        "id": "dco9KKP368kr"
      }
    },
    {
      "cell_type": "code",
      "execution_count": 14,
      "metadata": {
        "id": "NRpEgyDJ08b9"
      },
      "outputs": [],
      "source": [
        "#data Loading\n",
        "df = pd.read_csv('/content/drive/MyDrive/bq-results-20230204-071548-1675494969268/h8dsft_P0GC1_sigit_pramana.csv')"
      ]
    },
    {
      "cell_type": "code",
      "execution_count": null,
      "metadata": {
        "colab": {
          "base_uri": "https://localhost:8080/",
          "height": 206
        },
        "id": "pwDORXhk08b-",
        "outputId": "94bdcbc9-b991-45bd-e0cb-6d0c4650a8d5"
      },
      "outputs": [
        {
          "output_type": "execute_result",
          "data": {
            "text/plain": [
              "   negara            provinsi     tanggal  terkonfirmasi  meninggal   sembuh  \\\n",
              "0  Russia     Adygea Republic  2021-01-01          11103         92   9085.0   \n",
              "1  Russia          Altai Krai  2021-01-01          33124        888  30660.0   \n",
              "2  Russia      Altai Republic  2021-01-01          13901        103  13104.0   \n",
              "3  Russia         Amur Oblast  2021-01-01          16004        105  14415.0   \n",
              "4  Russia  Arkhangelsk Oblast  2021-01-01          43679        443  34495.0   \n",
              "\n",
              "    aktif  \n",
              "0  1926.0  \n",
              "1  1576.0  \n",
              "2   694.0  \n",
              "3  1484.0  \n",
              "4  8741.0  "
            ],
            "text/html": [
              "\n",
              "  <div id=\"df-5569949c-74a4-4068-8c70-ca33cfa04f4b\">\n",
              "    <div class=\"colab-df-container\">\n",
              "      <div>\n",
              "<style scoped>\n",
              "    .dataframe tbody tr th:only-of-type {\n",
              "        vertical-align: middle;\n",
              "    }\n",
              "\n",
              "    .dataframe tbody tr th {\n",
              "        vertical-align: top;\n",
              "    }\n",
              "\n",
              "    .dataframe thead th {\n",
              "        text-align: right;\n",
              "    }\n",
              "</style>\n",
              "<table border=\"1\" class=\"dataframe\">\n",
              "  <thead>\n",
              "    <tr style=\"text-align: right;\">\n",
              "      <th></th>\n",
              "      <th>negara</th>\n",
              "      <th>provinsi</th>\n",
              "      <th>tanggal</th>\n",
              "      <th>terkonfirmasi</th>\n",
              "      <th>meninggal</th>\n",
              "      <th>sembuh</th>\n",
              "      <th>aktif</th>\n",
              "    </tr>\n",
              "  </thead>\n",
              "  <tbody>\n",
              "    <tr>\n",
              "      <th>0</th>\n",
              "      <td>Russia</td>\n",
              "      <td>Adygea Republic</td>\n",
              "      <td>2021-01-01</td>\n",
              "      <td>11103</td>\n",
              "      <td>92</td>\n",
              "      <td>9085.0</td>\n",
              "      <td>1926.0</td>\n",
              "    </tr>\n",
              "    <tr>\n",
              "      <th>1</th>\n",
              "      <td>Russia</td>\n",
              "      <td>Altai Krai</td>\n",
              "      <td>2021-01-01</td>\n",
              "      <td>33124</td>\n",
              "      <td>888</td>\n",
              "      <td>30660.0</td>\n",
              "      <td>1576.0</td>\n",
              "    </tr>\n",
              "    <tr>\n",
              "      <th>2</th>\n",
              "      <td>Russia</td>\n",
              "      <td>Altai Republic</td>\n",
              "      <td>2021-01-01</td>\n",
              "      <td>13901</td>\n",
              "      <td>103</td>\n",
              "      <td>13104.0</td>\n",
              "      <td>694.0</td>\n",
              "    </tr>\n",
              "    <tr>\n",
              "      <th>3</th>\n",
              "      <td>Russia</td>\n",
              "      <td>Amur Oblast</td>\n",
              "      <td>2021-01-01</td>\n",
              "      <td>16004</td>\n",
              "      <td>105</td>\n",
              "      <td>14415.0</td>\n",
              "      <td>1484.0</td>\n",
              "    </tr>\n",
              "    <tr>\n",
              "      <th>4</th>\n",
              "      <td>Russia</td>\n",
              "      <td>Arkhangelsk Oblast</td>\n",
              "      <td>2021-01-01</td>\n",
              "      <td>43679</td>\n",
              "      <td>443</td>\n",
              "      <td>34495.0</td>\n",
              "      <td>8741.0</td>\n",
              "    </tr>\n",
              "  </tbody>\n",
              "</table>\n",
              "</div>\n",
              "      <button class=\"colab-df-convert\" onclick=\"convertToInteractive('df-5569949c-74a4-4068-8c70-ca33cfa04f4b')\"\n",
              "              title=\"Convert this dataframe to an interactive table.\"\n",
              "              style=\"display:none;\">\n",
              "        \n",
              "  <svg xmlns=\"http://www.w3.org/2000/svg\" height=\"24px\"viewBox=\"0 0 24 24\"\n",
              "       width=\"24px\">\n",
              "    <path d=\"M0 0h24v24H0V0z\" fill=\"none\"/>\n",
              "    <path d=\"M18.56 5.44l.94 2.06.94-2.06 2.06-.94-2.06-.94-.94-2.06-.94 2.06-2.06.94zm-11 1L8.5 8.5l.94-2.06 2.06-.94-2.06-.94L8.5 2.5l-.94 2.06-2.06.94zm10 10l.94 2.06.94-2.06 2.06-.94-2.06-.94-.94-2.06-.94 2.06-2.06.94z\"/><path d=\"M17.41 7.96l-1.37-1.37c-.4-.4-.92-.59-1.43-.59-.52 0-1.04.2-1.43.59L10.3 9.45l-7.72 7.72c-.78.78-.78 2.05 0 2.83L4 21.41c.39.39.9.59 1.41.59.51 0 1.02-.2 1.41-.59l7.78-7.78 2.81-2.81c.8-.78.8-2.07 0-2.86zM5.41 20L4 18.59l7.72-7.72 1.47 1.35L5.41 20z\"/>\n",
              "  </svg>\n",
              "      </button>\n",
              "      \n",
              "  <style>\n",
              "    .colab-df-container {\n",
              "      display:flex;\n",
              "      flex-wrap:wrap;\n",
              "      gap: 12px;\n",
              "    }\n",
              "\n",
              "    .colab-df-convert {\n",
              "      background-color: #E8F0FE;\n",
              "      border: none;\n",
              "      border-radius: 50%;\n",
              "      cursor: pointer;\n",
              "      display: none;\n",
              "      fill: #1967D2;\n",
              "      height: 32px;\n",
              "      padding: 0 0 0 0;\n",
              "      width: 32px;\n",
              "    }\n",
              "\n",
              "    .colab-df-convert:hover {\n",
              "      background-color: #E2EBFA;\n",
              "      box-shadow: 0px 1px 2px rgba(60, 64, 67, 0.3), 0px 1px 3px 1px rgba(60, 64, 67, 0.15);\n",
              "      fill: #174EA6;\n",
              "    }\n",
              "\n",
              "    [theme=dark] .colab-df-convert {\n",
              "      background-color: #3B4455;\n",
              "      fill: #D2E3FC;\n",
              "    }\n",
              "\n",
              "    [theme=dark] .colab-df-convert:hover {\n",
              "      background-color: #434B5C;\n",
              "      box-shadow: 0px 1px 3px 1px rgba(0, 0, 0, 0.15);\n",
              "      filter: drop-shadow(0px 1px 2px rgba(0, 0, 0, 0.3));\n",
              "      fill: #FFFFFF;\n",
              "    }\n",
              "  </style>\n",
              "\n",
              "      <script>\n",
              "        const buttonEl =\n",
              "          document.querySelector('#df-5569949c-74a4-4068-8c70-ca33cfa04f4b button.colab-df-convert');\n",
              "        buttonEl.style.display =\n",
              "          google.colab.kernel.accessAllowed ? 'block' : 'none';\n",
              "\n",
              "        async function convertToInteractive(key) {\n",
              "          const element = document.querySelector('#df-5569949c-74a4-4068-8c70-ca33cfa04f4b');\n",
              "          const dataTable =\n",
              "            await google.colab.kernel.invokeFunction('convertToInteractive',\n",
              "                                                     [key], {});\n",
              "          if (!dataTable) return;\n",
              "\n",
              "          const docLinkHtml = 'Like what you see? Visit the ' +\n",
              "            '<a target=\"_blank\" href=https://colab.research.google.com/notebooks/data_table.ipynb>data table notebook</a>'\n",
              "            + ' to learn more about interactive tables.';\n",
              "          element.innerHTML = '';\n",
              "          dataTable['output_type'] = 'display_data';\n",
              "          await google.colab.output.renderOutput(dataTable, element);\n",
              "          const docLink = document.createElement('div');\n",
              "          docLink.innerHTML = docLinkHtml;\n",
              "          element.appendChild(docLink);\n",
              "        }\n",
              "      </script>\n",
              "    </div>\n",
              "  </div>\n",
              "  "
            ]
          },
          "metadata": {},
          "execution_count": 10
        }
      ],
      "source": [
        "df.head()"
      ]
    },
    {
      "cell_type": "code",
      "source": [
        "df.tail()"
      ],
      "metadata": {
        "colab": {
          "base_uri": "https://localhost:8080/",
          "height": 206
        },
        "id": "952p2emJ6KHd",
        "outputId": "f03d9a1c-ae9b-463e-b886-bed9a1d4012c"
      },
      "execution_count": null,
      "outputs": [
        {
          "output_type": "execute_result",
          "data": {
            "text/plain": [
              "       negara                        provinsi     tanggal  terkonfirmasi  \\\n",
              "30290  Russia                  Vologda Oblast  2021-12-31          99968   \n",
              "30291  Russia                 Voronezh Oblast  2021-12-31         194134   \n",
              "30292  Russia  Yamalo-Nenets Autonomous Okrug  2021-12-31          61999   \n",
              "30293  Russia                Yaroslavl Oblast  2021-12-31          85588   \n",
              "30294  Russia                Zabaykalsky Krai  2021-12-31          95945   \n",
              "\n",
              "       meninggal  sembuh  aktif  \n",
              "30290       2961     NaN    NaN  \n",
              "30291       6897     NaN    NaN  \n",
              "30292        955     NaN    NaN  \n",
              "30293       1872     NaN    NaN  \n",
              "30294       1841     NaN    NaN  "
            ],
            "text/html": [
              "\n",
              "  <div id=\"df-41045eb9-4eaa-4165-ad75-0989bf6bf2ae\">\n",
              "    <div class=\"colab-df-container\">\n",
              "      <div>\n",
              "<style scoped>\n",
              "    .dataframe tbody tr th:only-of-type {\n",
              "        vertical-align: middle;\n",
              "    }\n",
              "\n",
              "    .dataframe tbody tr th {\n",
              "        vertical-align: top;\n",
              "    }\n",
              "\n",
              "    .dataframe thead th {\n",
              "        text-align: right;\n",
              "    }\n",
              "</style>\n",
              "<table border=\"1\" class=\"dataframe\">\n",
              "  <thead>\n",
              "    <tr style=\"text-align: right;\">\n",
              "      <th></th>\n",
              "      <th>negara</th>\n",
              "      <th>provinsi</th>\n",
              "      <th>tanggal</th>\n",
              "      <th>terkonfirmasi</th>\n",
              "      <th>meninggal</th>\n",
              "      <th>sembuh</th>\n",
              "      <th>aktif</th>\n",
              "    </tr>\n",
              "  </thead>\n",
              "  <tbody>\n",
              "    <tr>\n",
              "      <th>30290</th>\n",
              "      <td>Russia</td>\n",
              "      <td>Vologda Oblast</td>\n",
              "      <td>2021-12-31</td>\n",
              "      <td>99968</td>\n",
              "      <td>2961</td>\n",
              "      <td>NaN</td>\n",
              "      <td>NaN</td>\n",
              "    </tr>\n",
              "    <tr>\n",
              "      <th>30291</th>\n",
              "      <td>Russia</td>\n",
              "      <td>Voronezh Oblast</td>\n",
              "      <td>2021-12-31</td>\n",
              "      <td>194134</td>\n",
              "      <td>6897</td>\n",
              "      <td>NaN</td>\n",
              "      <td>NaN</td>\n",
              "    </tr>\n",
              "    <tr>\n",
              "      <th>30292</th>\n",
              "      <td>Russia</td>\n",
              "      <td>Yamalo-Nenets Autonomous Okrug</td>\n",
              "      <td>2021-12-31</td>\n",
              "      <td>61999</td>\n",
              "      <td>955</td>\n",
              "      <td>NaN</td>\n",
              "      <td>NaN</td>\n",
              "    </tr>\n",
              "    <tr>\n",
              "      <th>30293</th>\n",
              "      <td>Russia</td>\n",
              "      <td>Yaroslavl Oblast</td>\n",
              "      <td>2021-12-31</td>\n",
              "      <td>85588</td>\n",
              "      <td>1872</td>\n",
              "      <td>NaN</td>\n",
              "      <td>NaN</td>\n",
              "    </tr>\n",
              "    <tr>\n",
              "      <th>30294</th>\n",
              "      <td>Russia</td>\n",
              "      <td>Zabaykalsky Krai</td>\n",
              "      <td>2021-12-31</td>\n",
              "      <td>95945</td>\n",
              "      <td>1841</td>\n",
              "      <td>NaN</td>\n",
              "      <td>NaN</td>\n",
              "    </tr>\n",
              "  </tbody>\n",
              "</table>\n",
              "</div>\n",
              "      <button class=\"colab-df-convert\" onclick=\"convertToInteractive('df-41045eb9-4eaa-4165-ad75-0989bf6bf2ae')\"\n",
              "              title=\"Convert this dataframe to an interactive table.\"\n",
              "              style=\"display:none;\">\n",
              "        \n",
              "  <svg xmlns=\"http://www.w3.org/2000/svg\" height=\"24px\"viewBox=\"0 0 24 24\"\n",
              "       width=\"24px\">\n",
              "    <path d=\"M0 0h24v24H0V0z\" fill=\"none\"/>\n",
              "    <path d=\"M18.56 5.44l.94 2.06.94-2.06 2.06-.94-2.06-.94-.94-2.06-.94 2.06-2.06.94zm-11 1L8.5 8.5l.94-2.06 2.06-.94-2.06-.94L8.5 2.5l-.94 2.06-2.06.94zm10 10l.94 2.06.94-2.06 2.06-.94-2.06-.94-.94-2.06-.94 2.06-2.06.94z\"/><path d=\"M17.41 7.96l-1.37-1.37c-.4-.4-.92-.59-1.43-.59-.52 0-1.04.2-1.43.59L10.3 9.45l-7.72 7.72c-.78.78-.78 2.05 0 2.83L4 21.41c.39.39.9.59 1.41.59.51 0 1.02-.2 1.41-.59l7.78-7.78 2.81-2.81c.8-.78.8-2.07 0-2.86zM5.41 20L4 18.59l7.72-7.72 1.47 1.35L5.41 20z\"/>\n",
              "  </svg>\n",
              "      </button>\n",
              "      \n",
              "  <style>\n",
              "    .colab-df-container {\n",
              "      display:flex;\n",
              "      flex-wrap:wrap;\n",
              "      gap: 12px;\n",
              "    }\n",
              "\n",
              "    .colab-df-convert {\n",
              "      background-color: #E8F0FE;\n",
              "      border: none;\n",
              "      border-radius: 50%;\n",
              "      cursor: pointer;\n",
              "      display: none;\n",
              "      fill: #1967D2;\n",
              "      height: 32px;\n",
              "      padding: 0 0 0 0;\n",
              "      width: 32px;\n",
              "    }\n",
              "\n",
              "    .colab-df-convert:hover {\n",
              "      background-color: #E2EBFA;\n",
              "      box-shadow: 0px 1px 2px rgba(60, 64, 67, 0.3), 0px 1px 3px 1px rgba(60, 64, 67, 0.15);\n",
              "      fill: #174EA6;\n",
              "    }\n",
              "\n",
              "    [theme=dark] .colab-df-convert {\n",
              "      background-color: #3B4455;\n",
              "      fill: #D2E3FC;\n",
              "    }\n",
              "\n",
              "    [theme=dark] .colab-df-convert:hover {\n",
              "      background-color: #434B5C;\n",
              "      box-shadow: 0px 1px 3px 1px rgba(0, 0, 0, 0.15);\n",
              "      filter: drop-shadow(0px 1px 2px rgba(0, 0, 0, 0.3));\n",
              "      fill: #FFFFFF;\n",
              "    }\n",
              "  </style>\n",
              "\n",
              "      <script>\n",
              "        const buttonEl =\n",
              "          document.querySelector('#df-41045eb9-4eaa-4165-ad75-0989bf6bf2ae button.colab-df-convert');\n",
              "        buttonEl.style.display =\n",
              "          google.colab.kernel.accessAllowed ? 'block' : 'none';\n",
              "\n",
              "        async function convertToInteractive(key) {\n",
              "          const element = document.querySelector('#df-41045eb9-4eaa-4165-ad75-0989bf6bf2ae');\n",
              "          const dataTable =\n",
              "            await google.colab.kernel.invokeFunction('convertToInteractive',\n",
              "                                                     [key], {});\n",
              "          if (!dataTable) return;\n",
              "\n",
              "          const docLinkHtml = 'Like what you see? Visit the ' +\n",
              "            '<a target=\"_blank\" href=https://colab.research.google.com/notebooks/data_table.ipynb>data table notebook</a>'\n",
              "            + ' to learn more about interactive tables.';\n",
              "          element.innerHTML = '';\n",
              "          dataTable['output_type'] = 'display_data';\n",
              "          await google.colab.output.renderOutput(dataTable, element);\n",
              "          const docLink = document.createElement('div');\n",
              "          docLink.innerHTML = docLinkHtml;\n",
              "          element.appendChild(docLink);\n",
              "        }\n",
              "      </script>\n",
              "    </div>\n",
              "  </div>\n",
              "  "
            ]
          },
          "metadata": {},
          "execution_count": 12
        }
      ]
    },
    {
      "cell_type": "markdown",
      "source": [
        "### Menangani Missing Value"
      ],
      "metadata": {
        "id": "R1reUj9D6y8Z"
      }
    },
    {
      "cell_type": "code",
      "source": [
        "df.info()"
      ],
      "metadata": {
        "colab": {
          "base_uri": "https://localhost:8080/"
        },
        "id": "dcnqnhnD6R5C",
        "outputId": "746e68be-048d-47f6-e4eb-b702079e6551"
      },
      "execution_count": null,
      "outputs": [
        {
          "output_type": "stream",
          "name": "stdout",
          "text": [
            "<class 'pandas.core.frame.DataFrame'>\n",
            "RangeIndex: 30295 entries, 0 to 30294\n",
            "Data columns (total 7 columns):\n",
            " #   Column         Non-Null Count  Dtype  \n",
            "---  ------         --------------  -----  \n",
            " 0   negara         30295 non-null  object \n",
            " 1   provinsi       30295 non-null  object \n",
            " 2   tanggal        30295 non-null  object \n",
            " 3   terkonfirmasi  30295 non-null  int64  \n",
            " 4   meninggal      30295 non-null  int64  \n",
            " 5   sembuh         17928 non-null  float64\n",
            " 6   aktif          17928 non-null  float64\n",
            "dtypes: float64(2), int64(2), object(3)\n",
            "memory usage: 1.6+ MB\n"
          ]
        }
      ]
    },
    {
      "cell_type": "code",
      "source": [
        "rows_without_missing_data = df.dropna()"
      ],
      "metadata": {
        "id": "etN3K7436UXC"
      },
      "execution_count": null,
      "outputs": []
    },
    {
      "cell_type": "code",
      "source": [
        "rows_without_missing_data.shape"
      ],
      "metadata": {
        "colab": {
          "base_uri": "https://localhost:8080/"
        },
        "id": "rPHFaisI6gJk",
        "outputId": "3b23db4c-1138-4612-d656-42bc562c4372"
      },
      "execution_count": null,
      "outputs": [
        {
          "output_type": "execute_result",
          "data": {
            "text/plain": [
              "(17928, 7)"
            ]
          },
          "metadata": {},
          "execution_count": 15
        }
      ]
    },
    {
      "cell_type": "markdown",
      "source": [
        "### Manipulating Column"
      ],
      "metadata": {
        "id": "J6fVSdqm7RdE"
      }
    },
    {
      "cell_type": "code",
      "source": [],
      "metadata": {
        "id": "Hu6XIqmJ6huc"
      },
      "execution_count": null,
      "outputs": []
    },
    {
      "cell_type": "markdown",
      "source": [
        "### Data Query"
      ],
      "metadata": {
        "id": "QtOLlKDT8TzX"
      }
    },
    {
      "cell_type": "markdown",
      "source": [
        "#### Apakah ada hari dimana tidak ada yang meninggal?"
      ],
      "metadata": {
        "id": "UBHIfx3lVMN6"
      }
    },
    {
      "cell_type": "code",
      "source": [
        "df[df['meninggal'] == 0]"
      ],
      "metadata": {
        "colab": {
          "base_uri": "https://localhost:8080/",
          "height": 1000
        },
        "id": "2mZwLTfdDqIe",
        "outputId": "cd57c0b5-e7fb-4dcf-ed39-e684fe4974d0"
      },
      "execution_count": null,
      "outputs": [
        {
          "output_type": "execute_result",
          "data": {
            "text/plain": [
              "      negara                 provinsi     tanggal  terkonfirmasi  meninggal  \\\n",
              "45    Russia  Nenets Autonomous Okrug  2021-01-01            796          0   \n",
              "128   Russia  Nenets Autonomous Okrug  2021-01-02            803          0   \n",
              "211   Russia  Nenets Autonomous Okrug  2021-01-03            804          0   \n",
              "294   Russia  Nenets Autonomous Okrug  2021-01-04            807          0   \n",
              "377   Russia  Nenets Autonomous Okrug  2021-01-05            807          0   \n",
              "460   Russia  Nenets Autonomous Okrug  2021-01-06            808          0   \n",
              "543   Russia  Nenets Autonomous Okrug  2021-01-07            811          0   \n",
              "626   Russia  Nenets Autonomous Okrug  2021-01-08            812          0   \n",
              "709   Russia  Nenets Autonomous Okrug  2021-01-09            815          0   \n",
              "792   Russia  Nenets Autonomous Okrug  2021-01-10            815          0   \n",
              "875   Russia  Nenets Autonomous Okrug  2021-01-11            818          0   \n",
              "958   Russia  Nenets Autonomous Okrug  2021-01-12            819          0   \n",
              "1041  Russia  Nenets Autonomous Okrug  2021-01-13            825          0   \n",
              "1124  Russia  Nenets Autonomous Okrug  2021-01-14            829          0   \n",
              "1207  Russia  Nenets Autonomous Okrug  2021-01-15            832          0   \n",
              "1290  Russia  Nenets Autonomous Okrug  2021-01-16            837          0   \n",
              "1373  Russia  Nenets Autonomous Okrug  2021-01-17            843          0   \n",
              "1456  Russia  Nenets Autonomous Okrug  2021-01-18            845          0   \n",
              "1539  Russia  Nenets Autonomous Okrug  2021-01-19            850          0   \n",
              "1622  Russia  Nenets Autonomous Okrug  2021-01-20            856          0   \n",
              "1705  Russia  Nenets Autonomous Okrug  2021-01-21            859          0   \n",
              "1788  Russia  Nenets Autonomous Okrug  2021-01-22            860          0   \n",
              "1871  Russia  Nenets Autonomous Okrug  2021-01-23            865          0   \n",
              "1954  Russia  Nenets Autonomous Okrug  2021-01-24            873          0   \n",
              "2037  Russia  Nenets Autonomous Okrug  2021-01-25            876          0   \n",
              "2120  Russia  Nenets Autonomous Okrug  2021-01-26            882          0   \n",
              "2203  Russia  Nenets Autonomous Okrug  2021-01-27            890          0   \n",
              "2286  Russia  Nenets Autonomous Okrug  2021-01-28            898          0   \n",
              "2369  Russia  Nenets Autonomous Okrug  2021-01-29            905          0   \n",
              "2452  Russia  Nenets Autonomous Okrug  2021-01-30            912          0   \n",
              "2535  Russia  Nenets Autonomous Okrug  2021-01-31            917          0   \n",
              "2618  Russia  Nenets Autonomous Okrug  2021-02-01            920          0   \n",
              "2701  Russia  Nenets Autonomous Okrug  2021-02-02            926          0   \n",
              "\n",
              "      sembuh  aktif  \n",
              "45     697.0   99.0  \n",
              "128    697.0  106.0  \n",
              "211    702.0  102.0  \n",
              "294    704.0  103.0  \n",
              "377    704.0  103.0  \n",
              "460    705.0  103.0  \n",
              "543    710.0  101.0  \n",
              "626    713.0   99.0  \n",
              "709    715.0  100.0  \n",
              "792    716.0   99.0  \n",
              "875    718.0  100.0  \n",
              "958    720.0   99.0  \n",
              "1041   721.0  104.0  \n",
              "1124   724.0  105.0  \n",
              "1207   726.0  106.0  \n",
              "1290   729.0  108.0  \n",
              "1373   734.0  109.0  \n",
              "1456   739.0  106.0  \n",
              "1539   742.0  108.0  \n",
              "1622   747.0  109.0  \n",
              "1705   751.0  108.0  \n",
              "1788   754.0  106.0  \n",
              "1871   758.0  107.0  \n",
              "1954   761.0  112.0  \n",
              "2037   762.0  114.0  \n",
              "2120   764.0  118.0  \n",
              "2203   768.0  122.0  \n",
              "2286   772.0  126.0  \n",
              "2369   775.0  130.0  \n",
              "2452   778.0  134.0  \n",
              "2535   780.0  137.0  \n",
              "2618   782.0  138.0  \n",
              "2701   787.0  139.0  "
            ],
            "text/html": [
              "\n",
              "  <div id=\"df-dc3dd6f0-197d-4eb0-8f45-4fd856886eb8\">\n",
              "    <div class=\"colab-df-container\">\n",
              "      <div>\n",
              "<style scoped>\n",
              "    .dataframe tbody tr th:only-of-type {\n",
              "        vertical-align: middle;\n",
              "    }\n",
              "\n",
              "    .dataframe tbody tr th {\n",
              "        vertical-align: top;\n",
              "    }\n",
              "\n",
              "    .dataframe thead th {\n",
              "        text-align: right;\n",
              "    }\n",
              "</style>\n",
              "<table border=\"1\" class=\"dataframe\">\n",
              "  <thead>\n",
              "    <tr style=\"text-align: right;\">\n",
              "      <th></th>\n",
              "      <th>negara</th>\n",
              "      <th>provinsi</th>\n",
              "      <th>tanggal</th>\n",
              "      <th>terkonfirmasi</th>\n",
              "      <th>meninggal</th>\n",
              "      <th>sembuh</th>\n",
              "      <th>aktif</th>\n",
              "    </tr>\n",
              "  </thead>\n",
              "  <tbody>\n",
              "    <tr>\n",
              "      <th>45</th>\n",
              "      <td>Russia</td>\n",
              "      <td>Nenets Autonomous Okrug</td>\n",
              "      <td>2021-01-01</td>\n",
              "      <td>796</td>\n",
              "      <td>0</td>\n",
              "      <td>697.0</td>\n",
              "      <td>99.0</td>\n",
              "    </tr>\n",
              "    <tr>\n",
              "      <th>128</th>\n",
              "      <td>Russia</td>\n",
              "      <td>Nenets Autonomous Okrug</td>\n",
              "      <td>2021-01-02</td>\n",
              "      <td>803</td>\n",
              "      <td>0</td>\n",
              "      <td>697.0</td>\n",
              "      <td>106.0</td>\n",
              "    </tr>\n",
              "    <tr>\n",
              "      <th>211</th>\n",
              "      <td>Russia</td>\n",
              "      <td>Nenets Autonomous Okrug</td>\n",
              "      <td>2021-01-03</td>\n",
              "      <td>804</td>\n",
              "      <td>0</td>\n",
              "      <td>702.0</td>\n",
              "      <td>102.0</td>\n",
              "    </tr>\n",
              "    <tr>\n",
              "      <th>294</th>\n",
              "      <td>Russia</td>\n",
              "      <td>Nenets Autonomous Okrug</td>\n",
              "      <td>2021-01-04</td>\n",
              "      <td>807</td>\n",
              "      <td>0</td>\n",
              "      <td>704.0</td>\n",
              "      <td>103.0</td>\n",
              "    </tr>\n",
              "    <tr>\n",
              "      <th>377</th>\n",
              "      <td>Russia</td>\n",
              "      <td>Nenets Autonomous Okrug</td>\n",
              "      <td>2021-01-05</td>\n",
              "      <td>807</td>\n",
              "      <td>0</td>\n",
              "      <td>704.0</td>\n",
              "      <td>103.0</td>\n",
              "    </tr>\n",
              "    <tr>\n",
              "      <th>460</th>\n",
              "      <td>Russia</td>\n",
              "      <td>Nenets Autonomous Okrug</td>\n",
              "      <td>2021-01-06</td>\n",
              "      <td>808</td>\n",
              "      <td>0</td>\n",
              "      <td>705.0</td>\n",
              "      <td>103.0</td>\n",
              "    </tr>\n",
              "    <tr>\n",
              "      <th>543</th>\n",
              "      <td>Russia</td>\n",
              "      <td>Nenets Autonomous Okrug</td>\n",
              "      <td>2021-01-07</td>\n",
              "      <td>811</td>\n",
              "      <td>0</td>\n",
              "      <td>710.0</td>\n",
              "      <td>101.0</td>\n",
              "    </tr>\n",
              "    <tr>\n",
              "      <th>626</th>\n",
              "      <td>Russia</td>\n",
              "      <td>Nenets Autonomous Okrug</td>\n",
              "      <td>2021-01-08</td>\n",
              "      <td>812</td>\n",
              "      <td>0</td>\n",
              "      <td>713.0</td>\n",
              "      <td>99.0</td>\n",
              "    </tr>\n",
              "    <tr>\n",
              "      <th>709</th>\n",
              "      <td>Russia</td>\n",
              "      <td>Nenets Autonomous Okrug</td>\n",
              "      <td>2021-01-09</td>\n",
              "      <td>815</td>\n",
              "      <td>0</td>\n",
              "      <td>715.0</td>\n",
              "      <td>100.0</td>\n",
              "    </tr>\n",
              "    <tr>\n",
              "      <th>792</th>\n",
              "      <td>Russia</td>\n",
              "      <td>Nenets Autonomous Okrug</td>\n",
              "      <td>2021-01-10</td>\n",
              "      <td>815</td>\n",
              "      <td>0</td>\n",
              "      <td>716.0</td>\n",
              "      <td>99.0</td>\n",
              "    </tr>\n",
              "    <tr>\n",
              "      <th>875</th>\n",
              "      <td>Russia</td>\n",
              "      <td>Nenets Autonomous Okrug</td>\n",
              "      <td>2021-01-11</td>\n",
              "      <td>818</td>\n",
              "      <td>0</td>\n",
              "      <td>718.0</td>\n",
              "      <td>100.0</td>\n",
              "    </tr>\n",
              "    <tr>\n",
              "      <th>958</th>\n",
              "      <td>Russia</td>\n",
              "      <td>Nenets Autonomous Okrug</td>\n",
              "      <td>2021-01-12</td>\n",
              "      <td>819</td>\n",
              "      <td>0</td>\n",
              "      <td>720.0</td>\n",
              "      <td>99.0</td>\n",
              "    </tr>\n",
              "    <tr>\n",
              "      <th>1041</th>\n",
              "      <td>Russia</td>\n",
              "      <td>Nenets Autonomous Okrug</td>\n",
              "      <td>2021-01-13</td>\n",
              "      <td>825</td>\n",
              "      <td>0</td>\n",
              "      <td>721.0</td>\n",
              "      <td>104.0</td>\n",
              "    </tr>\n",
              "    <tr>\n",
              "      <th>1124</th>\n",
              "      <td>Russia</td>\n",
              "      <td>Nenets Autonomous Okrug</td>\n",
              "      <td>2021-01-14</td>\n",
              "      <td>829</td>\n",
              "      <td>0</td>\n",
              "      <td>724.0</td>\n",
              "      <td>105.0</td>\n",
              "    </tr>\n",
              "    <tr>\n",
              "      <th>1207</th>\n",
              "      <td>Russia</td>\n",
              "      <td>Nenets Autonomous Okrug</td>\n",
              "      <td>2021-01-15</td>\n",
              "      <td>832</td>\n",
              "      <td>0</td>\n",
              "      <td>726.0</td>\n",
              "      <td>106.0</td>\n",
              "    </tr>\n",
              "    <tr>\n",
              "      <th>1290</th>\n",
              "      <td>Russia</td>\n",
              "      <td>Nenets Autonomous Okrug</td>\n",
              "      <td>2021-01-16</td>\n",
              "      <td>837</td>\n",
              "      <td>0</td>\n",
              "      <td>729.0</td>\n",
              "      <td>108.0</td>\n",
              "    </tr>\n",
              "    <tr>\n",
              "      <th>1373</th>\n",
              "      <td>Russia</td>\n",
              "      <td>Nenets Autonomous Okrug</td>\n",
              "      <td>2021-01-17</td>\n",
              "      <td>843</td>\n",
              "      <td>0</td>\n",
              "      <td>734.0</td>\n",
              "      <td>109.0</td>\n",
              "    </tr>\n",
              "    <tr>\n",
              "      <th>1456</th>\n",
              "      <td>Russia</td>\n",
              "      <td>Nenets Autonomous Okrug</td>\n",
              "      <td>2021-01-18</td>\n",
              "      <td>845</td>\n",
              "      <td>0</td>\n",
              "      <td>739.0</td>\n",
              "      <td>106.0</td>\n",
              "    </tr>\n",
              "    <tr>\n",
              "      <th>1539</th>\n",
              "      <td>Russia</td>\n",
              "      <td>Nenets Autonomous Okrug</td>\n",
              "      <td>2021-01-19</td>\n",
              "      <td>850</td>\n",
              "      <td>0</td>\n",
              "      <td>742.0</td>\n",
              "      <td>108.0</td>\n",
              "    </tr>\n",
              "    <tr>\n",
              "      <th>1622</th>\n",
              "      <td>Russia</td>\n",
              "      <td>Nenets Autonomous Okrug</td>\n",
              "      <td>2021-01-20</td>\n",
              "      <td>856</td>\n",
              "      <td>0</td>\n",
              "      <td>747.0</td>\n",
              "      <td>109.0</td>\n",
              "    </tr>\n",
              "    <tr>\n",
              "      <th>1705</th>\n",
              "      <td>Russia</td>\n",
              "      <td>Nenets Autonomous Okrug</td>\n",
              "      <td>2021-01-21</td>\n",
              "      <td>859</td>\n",
              "      <td>0</td>\n",
              "      <td>751.0</td>\n",
              "      <td>108.0</td>\n",
              "    </tr>\n",
              "    <tr>\n",
              "      <th>1788</th>\n",
              "      <td>Russia</td>\n",
              "      <td>Nenets Autonomous Okrug</td>\n",
              "      <td>2021-01-22</td>\n",
              "      <td>860</td>\n",
              "      <td>0</td>\n",
              "      <td>754.0</td>\n",
              "      <td>106.0</td>\n",
              "    </tr>\n",
              "    <tr>\n",
              "      <th>1871</th>\n",
              "      <td>Russia</td>\n",
              "      <td>Nenets Autonomous Okrug</td>\n",
              "      <td>2021-01-23</td>\n",
              "      <td>865</td>\n",
              "      <td>0</td>\n",
              "      <td>758.0</td>\n",
              "      <td>107.0</td>\n",
              "    </tr>\n",
              "    <tr>\n",
              "      <th>1954</th>\n",
              "      <td>Russia</td>\n",
              "      <td>Nenets Autonomous Okrug</td>\n",
              "      <td>2021-01-24</td>\n",
              "      <td>873</td>\n",
              "      <td>0</td>\n",
              "      <td>761.0</td>\n",
              "      <td>112.0</td>\n",
              "    </tr>\n",
              "    <tr>\n",
              "      <th>2037</th>\n",
              "      <td>Russia</td>\n",
              "      <td>Nenets Autonomous Okrug</td>\n",
              "      <td>2021-01-25</td>\n",
              "      <td>876</td>\n",
              "      <td>0</td>\n",
              "      <td>762.0</td>\n",
              "      <td>114.0</td>\n",
              "    </tr>\n",
              "    <tr>\n",
              "      <th>2120</th>\n",
              "      <td>Russia</td>\n",
              "      <td>Nenets Autonomous Okrug</td>\n",
              "      <td>2021-01-26</td>\n",
              "      <td>882</td>\n",
              "      <td>0</td>\n",
              "      <td>764.0</td>\n",
              "      <td>118.0</td>\n",
              "    </tr>\n",
              "    <tr>\n",
              "      <th>2203</th>\n",
              "      <td>Russia</td>\n",
              "      <td>Nenets Autonomous Okrug</td>\n",
              "      <td>2021-01-27</td>\n",
              "      <td>890</td>\n",
              "      <td>0</td>\n",
              "      <td>768.0</td>\n",
              "      <td>122.0</td>\n",
              "    </tr>\n",
              "    <tr>\n",
              "      <th>2286</th>\n",
              "      <td>Russia</td>\n",
              "      <td>Nenets Autonomous Okrug</td>\n",
              "      <td>2021-01-28</td>\n",
              "      <td>898</td>\n",
              "      <td>0</td>\n",
              "      <td>772.0</td>\n",
              "      <td>126.0</td>\n",
              "    </tr>\n",
              "    <tr>\n",
              "      <th>2369</th>\n",
              "      <td>Russia</td>\n",
              "      <td>Nenets Autonomous Okrug</td>\n",
              "      <td>2021-01-29</td>\n",
              "      <td>905</td>\n",
              "      <td>0</td>\n",
              "      <td>775.0</td>\n",
              "      <td>130.0</td>\n",
              "    </tr>\n",
              "    <tr>\n",
              "      <th>2452</th>\n",
              "      <td>Russia</td>\n",
              "      <td>Nenets Autonomous Okrug</td>\n",
              "      <td>2021-01-30</td>\n",
              "      <td>912</td>\n",
              "      <td>0</td>\n",
              "      <td>778.0</td>\n",
              "      <td>134.0</td>\n",
              "    </tr>\n",
              "    <tr>\n",
              "      <th>2535</th>\n",
              "      <td>Russia</td>\n",
              "      <td>Nenets Autonomous Okrug</td>\n",
              "      <td>2021-01-31</td>\n",
              "      <td>917</td>\n",
              "      <td>0</td>\n",
              "      <td>780.0</td>\n",
              "      <td>137.0</td>\n",
              "    </tr>\n",
              "    <tr>\n",
              "      <th>2618</th>\n",
              "      <td>Russia</td>\n",
              "      <td>Nenets Autonomous Okrug</td>\n",
              "      <td>2021-02-01</td>\n",
              "      <td>920</td>\n",
              "      <td>0</td>\n",
              "      <td>782.0</td>\n",
              "      <td>138.0</td>\n",
              "    </tr>\n",
              "    <tr>\n",
              "      <th>2701</th>\n",
              "      <td>Russia</td>\n",
              "      <td>Nenets Autonomous Okrug</td>\n",
              "      <td>2021-02-02</td>\n",
              "      <td>926</td>\n",
              "      <td>0</td>\n",
              "      <td>787.0</td>\n",
              "      <td>139.0</td>\n",
              "    </tr>\n",
              "  </tbody>\n",
              "</table>\n",
              "</div>\n",
              "      <button class=\"colab-df-convert\" onclick=\"convertToInteractive('df-dc3dd6f0-197d-4eb0-8f45-4fd856886eb8')\"\n",
              "              title=\"Convert this dataframe to an interactive table.\"\n",
              "              style=\"display:none;\">\n",
              "        \n",
              "  <svg xmlns=\"http://www.w3.org/2000/svg\" height=\"24px\"viewBox=\"0 0 24 24\"\n",
              "       width=\"24px\">\n",
              "    <path d=\"M0 0h24v24H0V0z\" fill=\"none\"/>\n",
              "    <path d=\"M18.56 5.44l.94 2.06.94-2.06 2.06-.94-2.06-.94-.94-2.06-.94 2.06-2.06.94zm-11 1L8.5 8.5l.94-2.06 2.06-.94-2.06-.94L8.5 2.5l-.94 2.06-2.06.94zm10 10l.94 2.06.94-2.06 2.06-.94-2.06-.94-.94-2.06-.94 2.06-2.06.94z\"/><path d=\"M17.41 7.96l-1.37-1.37c-.4-.4-.92-.59-1.43-.59-.52 0-1.04.2-1.43.59L10.3 9.45l-7.72 7.72c-.78.78-.78 2.05 0 2.83L4 21.41c.39.39.9.59 1.41.59.51 0 1.02-.2 1.41-.59l7.78-7.78 2.81-2.81c.8-.78.8-2.07 0-2.86zM5.41 20L4 18.59l7.72-7.72 1.47 1.35L5.41 20z\"/>\n",
              "  </svg>\n",
              "      </button>\n",
              "      \n",
              "  <style>\n",
              "    .colab-df-container {\n",
              "      display:flex;\n",
              "      flex-wrap:wrap;\n",
              "      gap: 12px;\n",
              "    }\n",
              "\n",
              "    .colab-df-convert {\n",
              "      background-color: #E8F0FE;\n",
              "      border: none;\n",
              "      border-radius: 50%;\n",
              "      cursor: pointer;\n",
              "      display: none;\n",
              "      fill: #1967D2;\n",
              "      height: 32px;\n",
              "      padding: 0 0 0 0;\n",
              "      width: 32px;\n",
              "    }\n",
              "\n",
              "    .colab-df-convert:hover {\n",
              "      background-color: #E2EBFA;\n",
              "      box-shadow: 0px 1px 2px rgba(60, 64, 67, 0.3), 0px 1px 3px 1px rgba(60, 64, 67, 0.15);\n",
              "      fill: #174EA6;\n",
              "    }\n",
              "\n",
              "    [theme=dark] .colab-df-convert {\n",
              "      background-color: #3B4455;\n",
              "      fill: #D2E3FC;\n",
              "    }\n",
              "\n",
              "    [theme=dark] .colab-df-convert:hover {\n",
              "      background-color: #434B5C;\n",
              "      box-shadow: 0px 1px 3px 1px rgba(0, 0, 0, 0.15);\n",
              "      filter: drop-shadow(0px 1px 2px rgba(0, 0, 0, 0.3));\n",
              "      fill: #FFFFFF;\n",
              "    }\n",
              "  </style>\n",
              "\n",
              "      <script>\n",
              "        const buttonEl =\n",
              "          document.querySelector('#df-dc3dd6f0-197d-4eb0-8f45-4fd856886eb8 button.colab-df-convert');\n",
              "        buttonEl.style.display =\n",
              "          google.colab.kernel.accessAllowed ? 'block' : 'none';\n",
              "\n",
              "        async function convertToInteractive(key) {\n",
              "          const element = document.querySelector('#df-dc3dd6f0-197d-4eb0-8f45-4fd856886eb8');\n",
              "          const dataTable =\n",
              "            await google.colab.kernel.invokeFunction('convertToInteractive',\n",
              "                                                     [key], {});\n",
              "          if (!dataTable) return;\n",
              "\n",
              "          const docLinkHtml = 'Like what you see? Visit the ' +\n",
              "            '<a target=\"_blank\" href=https://colab.research.google.com/notebooks/data_table.ipynb>data table notebook</a>'\n",
              "            + ' to learn more about interactive tables.';\n",
              "          element.innerHTML = '';\n",
              "          dataTable['output_type'] = 'display_data';\n",
              "          await google.colab.output.renderOutput(dataTable, element);\n",
              "          const docLink = document.createElement('div');\n",
              "          docLink.innerHTML = docLinkHtml;\n",
              "          element.appendChild(docLink);\n",
              "        }\n",
              "      </script>\n",
              "    </div>\n",
              "  </div>\n",
              "  "
            ]
          },
          "metadata": {},
          "execution_count": 90
        }
      ]
    },
    {
      "cell_type": "markdown",
      "source": [
        "#### Adakah jumlah yang meninggal dalam sehari yang lebih dari 35000?"
      ],
      "metadata": {
        "id": "7zmen_XnXNvy"
      }
    },
    {
      "cell_type": "code",
      "source": [
        "df[df['meninggal'] > 30000]"
      ],
      "metadata": {
        "colab": {
          "base_uri": "https://localhost:8080/",
          "height": 424
        },
        "id": "eWTmKSDJXI8i",
        "outputId": "acb97597-392a-40ef-efb0-2d91b44c167f"
      },
      "execution_count": null,
      "outputs": [
        {
          "output_type": "execute_result",
          "data": {
            "text/plain": [
              "       negara provinsi     tanggal  terkonfirmasi  meninggal  sembuh  aktif\n",
              "23863  Russia   Moscow  2021-10-15        1706129      30021     NaN    NaN\n",
              "23946  Russia   Moscow  2021-10-16        1712674      30093     NaN    NaN\n",
              "24029  Russia   Moscow  2021-10-17        1719414      30163     NaN    NaN\n",
              "24112  Russia   Moscow  2021-10-18        1726237      30232     NaN    NaN\n",
              "24195  Russia   Moscow  2021-10-19        1731937      30305     NaN    NaN\n",
              "...       ...      ...         ...            ...        ...     ...    ...\n",
              "29922  Russia   Moscow  2021-12-27        2021841      36488     NaN    NaN\n",
              "30005  Russia   Moscow  2021-12-28        2023546      36561     NaN    NaN\n",
              "30088  Russia   Moscow  2021-12-29        2025344      36631     NaN    NaN\n",
              "30171  Russia   Moscow  2021-12-30        2028005      36702     NaN    NaN\n",
              "30254  Russia   Moscow  2021-12-31        2030744      36771     NaN    NaN\n",
              "\n",
              "[78 rows x 7 columns]"
            ],
            "text/html": [
              "\n",
              "  <div id=\"df-8014d611-d69f-4a1b-8220-43c1a82eb9ca\">\n",
              "    <div class=\"colab-df-container\">\n",
              "      <div>\n",
              "<style scoped>\n",
              "    .dataframe tbody tr th:only-of-type {\n",
              "        vertical-align: middle;\n",
              "    }\n",
              "\n",
              "    .dataframe tbody tr th {\n",
              "        vertical-align: top;\n",
              "    }\n",
              "\n",
              "    .dataframe thead th {\n",
              "        text-align: right;\n",
              "    }\n",
              "</style>\n",
              "<table border=\"1\" class=\"dataframe\">\n",
              "  <thead>\n",
              "    <tr style=\"text-align: right;\">\n",
              "      <th></th>\n",
              "      <th>negara</th>\n",
              "      <th>provinsi</th>\n",
              "      <th>tanggal</th>\n",
              "      <th>terkonfirmasi</th>\n",
              "      <th>meninggal</th>\n",
              "      <th>sembuh</th>\n",
              "      <th>aktif</th>\n",
              "    </tr>\n",
              "  </thead>\n",
              "  <tbody>\n",
              "    <tr>\n",
              "      <th>23863</th>\n",
              "      <td>Russia</td>\n",
              "      <td>Moscow</td>\n",
              "      <td>2021-10-15</td>\n",
              "      <td>1706129</td>\n",
              "      <td>30021</td>\n",
              "      <td>NaN</td>\n",
              "      <td>NaN</td>\n",
              "    </tr>\n",
              "    <tr>\n",
              "      <th>23946</th>\n",
              "      <td>Russia</td>\n",
              "      <td>Moscow</td>\n",
              "      <td>2021-10-16</td>\n",
              "      <td>1712674</td>\n",
              "      <td>30093</td>\n",
              "      <td>NaN</td>\n",
              "      <td>NaN</td>\n",
              "    </tr>\n",
              "    <tr>\n",
              "      <th>24029</th>\n",
              "      <td>Russia</td>\n",
              "      <td>Moscow</td>\n",
              "      <td>2021-10-17</td>\n",
              "      <td>1719414</td>\n",
              "      <td>30163</td>\n",
              "      <td>NaN</td>\n",
              "      <td>NaN</td>\n",
              "    </tr>\n",
              "    <tr>\n",
              "      <th>24112</th>\n",
              "      <td>Russia</td>\n",
              "      <td>Moscow</td>\n",
              "      <td>2021-10-18</td>\n",
              "      <td>1726237</td>\n",
              "      <td>30232</td>\n",
              "      <td>NaN</td>\n",
              "      <td>NaN</td>\n",
              "    </tr>\n",
              "    <tr>\n",
              "      <th>24195</th>\n",
              "      <td>Russia</td>\n",
              "      <td>Moscow</td>\n",
              "      <td>2021-10-19</td>\n",
              "      <td>1731937</td>\n",
              "      <td>30305</td>\n",
              "      <td>NaN</td>\n",
              "      <td>NaN</td>\n",
              "    </tr>\n",
              "    <tr>\n",
              "      <th>...</th>\n",
              "      <td>...</td>\n",
              "      <td>...</td>\n",
              "      <td>...</td>\n",
              "      <td>...</td>\n",
              "      <td>...</td>\n",
              "      <td>...</td>\n",
              "      <td>...</td>\n",
              "    </tr>\n",
              "    <tr>\n",
              "      <th>29922</th>\n",
              "      <td>Russia</td>\n",
              "      <td>Moscow</td>\n",
              "      <td>2021-12-27</td>\n",
              "      <td>2021841</td>\n",
              "      <td>36488</td>\n",
              "      <td>NaN</td>\n",
              "      <td>NaN</td>\n",
              "    </tr>\n",
              "    <tr>\n",
              "      <th>30005</th>\n",
              "      <td>Russia</td>\n",
              "      <td>Moscow</td>\n",
              "      <td>2021-12-28</td>\n",
              "      <td>2023546</td>\n",
              "      <td>36561</td>\n",
              "      <td>NaN</td>\n",
              "      <td>NaN</td>\n",
              "    </tr>\n",
              "    <tr>\n",
              "      <th>30088</th>\n",
              "      <td>Russia</td>\n",
              "      <td>Moscow</td>\n",
              "      <td>2021-12-29</td>\n",
              "      <td>2025344</td>\n",
              "      <td>36631</td>\n",
              "      <td>NaN</td>\n",
              "      <td>NaN</td>\n",
              "    </tr>\n",
              "    <tr>\n",
              "      <th>30171</th>\n",
              "      <td>Russia</td>\n",
              "      <td>Moscow</td>\n",
              "      <td>2021-12-30</td>\n",
              "      <td>2028005</td>\n",
              "      <td>36702</td>\n",
              "      <td>NaN</td>\n",
              "      <td>NaN</td>\n",
              "    </tr>\n",
              "    <tr>\n",
              "      <th>30254</th>\n",
              "      <td>Russia</td>\n",
              "      <td>Moscow</td>\n",
              "      <td>2021-12-31</td>\n",
              "      <td>2030744</td>\n",
              "      <td>36771</td>\n",
              "      <td>NaN</td>\n",
              "      <td>NaN</td>\n",
              "    </tr>\n",
              "  </tbody>\n",
              "</table>\n",
              "<p>78 rows × 7 columns</p>\n",
              "</div>\n",
              "      <button class=\"colab-df-convert\" onclick=\"convertToInteractive('df-8014d611-d69f-4a1b-8220-43c1a82eb9ca')\"\n",
              "              title=\"Convert this dataframe to an interactive table.\"\n",
              "              style=\"display:none;\">\n",
              "        \n",
              "  <svg xmlns=\"http://www.w3.org/2000/svg\" height=\"24px\"viewBox=\"0 0 24 24\"\n",
              "       width=\"24px\">\n",
              "    <path d=\"M0 0h24v24H0V0z\" fill=\"none\"/>\n",
              "    <path d=\"M18.56 5.44l.94 2.06.94-2.06 2.06-.94-2.06-.94-.94-2.06-.94 2.06-2.06.94zm-11 1L8.5 8.5l.94-2.06 2.06-.94-2.06-.94L8.5 2.5l-.94 2.06-2.06.94zm10 10l.94 2.06.94-2.06 2.06-.94-2.06-.94-.94-2.06-.94 2.06-2.06.94z\"/><path d=\"M17.41 7.96l-1.37-1.37c-.4-.4-.92-.59-1.43-.59-.52 0-1.04.2-1.43.59L10.3 9.45l-7.72 7.72c-.78.78-.78 2.05 0 2.83L4 21.41c.39.39.9.59 1.41.59.51 0 1.02-.2 1.41-.59l7.78-7.78 2.81-2.81c.8-.78.8-2.07 0-2.86zM5.41 20L4 18.59l7.72-7.72 1.47 1.35L5.41 20z\"/>\n",
              "  </svg>\n",
              "      </button>\n",
              "      \n",
              "  <style>\n",
              "    .colab-df-container {\n",
              "      display:flex;\n",
              "      flex-wrap:wrap;\n",
              "      gap: 12px;\n",
              "    }\n",
              "\n",
              "    .colab-df-convert {\n",
              "      background-color: #E8F0FE;\n",
              "      border: none;\n",
              "      border-radius: 50%;\n",
              "      cursor: pointer;\n",
              "      display: none;\n",
              "      fill: #1967D2;\n",
              "      height: 32px;\n",
              "      padding: 0 0 0 0;\n",
              "      width: 32px;\n",
              "    }\n",
              "\n",
              "    .colab-df-convert:hover {\n",
              "      background-color: #E2EBFA;\n",
              "      box-shadow: 0px 1px 2px rgba(60, 64, 67, 0.3), 0px 1px 3px 1px rgba(60, 64, 67, 0.15);\n",
              "      fill: #174EA6;\n",
              "    }\n",
              "\n",
              "    [theme=dark] .colab-df-convert {\n",
              "      background-color: #3B4455;\n",
              "      fill: #D2E3FC;\n",
              "    }\n",
              "\n",
              "    [theme=dark] .colab-df-convert:hover {\n",
              "      background-color: #434B5C;\n",
              "      box-shadow: 0px 1px 3px 1px rgba(0, 0, 0, 0.15);\n",
              "      filter: drop-shadow(0px 1px 2px rgba(0, 0, 0, 0.3));\n",
              "      fill: #FFFFFF;\n",
              "    }\n",
              "  </style>\n",
              "\n",
              "      <script>\n",
              "        const buttonEl =\n",
              "          document.querySelector('#df-8014d611-d69f-4a1b-8220-43c1a82eb9ca button.colab-df-convert');\n",
              "        buttonEl.style.display =\n",
              "          google.colab.kernel.accessAllowed ? 'block' : 'none';\n",
              "\n",
              "        async function convertToInteractive(key) {\n",
              "          const element = document.querySelector('#df-8014d611-d69f-4a1b-8220-43c1a82eb9ca');\n",
              "          const dataTable =\n",
              "            await google.colab.kernel.invokeFunction('convertToInteractive',\n",
              "                                                     [key], {});\n",
              "          if (!dataTable) return;\n",
              "\n",
              "          const docLinkHtml = 'Like what you see? Visit the ' +\n",
              "            '<a target=\"_blank\" href=https://colab.research.google.com/notebooks/data_table.ipynb>data table notebook</a>'\n",
              "            + ' to learn more about interactive tables.';\n",
              "          element.innerHTML = '';\n",
              "          dataTable['output_type'] = 'display_data';\n",
              "          await google.colab.output.renderOutput(dataTable, element);\n",
              "          const docLink = document.createElement('div');\n",
              "          docLink.innerHTML = docLinkHtml;\n",
              "          element.appendChild(docLink);\n",
              "        }\n",
              "      </script>\n",
              "    </div>\n",
              "  </div>\n",
              "  "
            ]
          },
          "metadata": {},
          "execution_count": 89
        }
      ]
    },
    {
      "cell_type": "markdown",
      "source": [
        "\n",
        "#### Jumlah kematian di provinsi Adygea Republic kurang dari 100"
      ],
      "metadata": {
        "id": "_KxCeiINWl8L"
      }
    },
    {
      "cell_type": "code",
      "source": [
        "df[\n",
        "    (df['provinsi'] == 'Adygea Republic') &\n",
        "    (df['meninggal'] <= 100 )\n",
        "  ]"
      ],
      "metadata": {
        "colab": {
          "base_uri": "https://localhost:8080/",
          "height": 331
        },
        "id": "TAq1b1BOAhmY",
        "outputId": "fd13084b-7e14-4225-b7e0-c8f6089de946"
      },
      "execution_count": null,
      "outputs": [
        {
          "output_type": "execute_result",
          "data": {
            "text/plain": [
              "     negara         provinsi     tanggal  terkonfirmasi  meninggal  sembuh  \\\n",
              "0    Russia  Adygea Republic  2021-01-01          11103         92  9085.0   \n",
              "83   Russia  Adygea Republic  2021-01-02          11184         93  9147.0   \n",
              "166  Russia  Adygea Republic  2021-01-03          11261         93  9224.0   \n",
              "249  Russia  Adygea Republic  2021-01-04          11341         95  9312.0   \n",
              "332  Russia  Adygea Republic  2021-01-05          11420         95  9380.0   \n",
              "415  Russia  Adygea Republic  2021-01-06          11497         95  9454.0   \n",
              "498  Russia  Adygea Republic  2021-01-07          11575         98  9561.0   \n",
              "581  Russia  Adygea Republic  2021-01-08          11650         98  9628.0   \n",
              "664  Russia  Adygea Republic  2021-01-09          11726         98  9691.0   \n",
              "\n",
              "      aktif  \n",
              "0    1926.0  \n",
              "83   1944.0  \n",
              "166  1944.0  \n",
              "249  1934.0  \n",
              "332  1945.0  \n",
              "415  1948.0  \n",
              "498  1916.0  \n",
              "581  1924.0  \n",
              "664  1937.0  "
            ],
            "text/html": [
              "\n",
              "  <div id=\"df-ec60f20b-cea6-4340-aed4-2ac3f9bc0488\">\n",
              "    <div class=\"colab-df-container\">\n",
              "      <div>\n",
              "<style scoped>\n",
              "    .dataframe tbody tr th:only-of-type {\n",
              "        vertical-align: middle;\n",
              "    }\n",
              "\n",
              "    .dataframe tbody tr th {\n",
              "        vertical-align: top;\n",
              "    }\n",
              "\n",
              "    .dataframe thead th {\n",
              "        text-align: right;\n",
              "    }\n",
              "</style>\n",
              "<table border=\"1\" class=\"dataframe\">\n",
              "  <thead>\n",
              "    <tr style=\"text-align: right;\">\n",
              "      <th></th>\n",
              "      <th>negara</th>\n",
              "      <th>provinsi</th>\n",
              "      <th>tanggal</th>\n",
              "      <th>terkonfirmasi</th>\n",
              "      <th>meninggal</th>\n",
              "      <th>sembuh</th>\n",
              "      <th>aktif</th>\n",
              "    </tr>\n",
              "  </thead>\n",
              "  <tbody>\n",
              "    <tr>\n",
              "      <th>0</th>\n",
              "      <td>Russia</td>\n",
              "      <td>Adygea Republic</td>\n",
              "      <td>2021-01-01</td>\n",
              "      <td>11103</td>\n",
              "      <td>92</td>\n",
              "      <td>9085.0</td>\n",
              "      <td>1926.0</td>\n",
              "    </tr>\n",
              "    <tr>\n",
              "      <th>83</th>\n",
              "      <td>Russia</td>\n",
              "      <td>Adygea Republic</td>\n",
              "      <td>2021-01-02</td>\n",
              "      <td>11184</td>\n",
              "      <td>93</td>\n",
              "      <td>9147.0</td>\n",
              "      <td>1944.0</td>\n",
              "    </tr>\n",
              "    <tr>\n",
              "      <th>166</th>\n",
              "      <td>Russia</td>\n",
              "      <td>Adygea Republic</td>\n",
              "      <td>2021-01-03</td>\n",
              "      <td>11261</td>\n",
              "      <td>93</td>\n",
              "      <td>9224.0</td>\n",
              "      <td>1944.0</td>\n",
              "    </tr>\n",
              "    <tr>\n",
              "      <th>249</th>\n",
              "      <td>Russia</td>\n",
              "      <td>Adygea Republic</td>\n",
              "      <td>2021-01-04</td>\n",
              "      <td>11341</td>\n",
              "      <td>95</td>\n",
              "      <td>9312.0</td>\n",
              "      <td>1934.0</td>\n",
              "    </tr>\n",
              "    <tr>\n",
              "      <th>332</th>\n",
              "      <td>Russia</td>\n",
              "      <td>Adygea Republic</td>\n",
              "      <td>2021-01-05</td>\n",
              "      <td>11420</td>\n",
              "      <td>95</td>\n",
              "      <td>9380.0</td>\n",
              "      <td>1945.0</td>\n",
              "    </tr>\n",
              "    <tr>\n",
              "      <th>415</th>\n",
              "      <td>Russia</td>\n",
              "      <td>Adygea Republic</td>\n",
              "      <td>2021-01-06</td>\n",
              "      <td>11497</td>\n",
              "      <td>95</td>\n",
              "      <td>9454.0</td>\n",
              "      <td>1948.0</td>\n",
              "    </tr>\n",
              "    <tr>\n",
              "      <th>498</th>\n",
              "      <td>Russia</td>\n",
              "      <td>Adygea Republic</td>\n",
              "      <td>2021-01-07</td>\n",
              "      <td>11575</td>\n",
              "      <td>98</td>\n",
              "      <td>9561.0</td>\n",
              "      <td>1916.0</td>\n",
              "    </tr>\n",
              "    <tr>\n",
              "      <th>581</th>\n",
              "      <td>Russia</td>\n",
              "      <td>Adygea Republic</td>\n",
              "      <td>2021-01-08</td>\n",
              "      <td>11650</td>\n",
              "      <td>98</td>\n",
              "      <td>9628.0</td>\n",
              "      <td>1924.0</td>\n",
              "    </tr>\n",
              "    <tr>\n",
              "      <th>664</th>\n",
              "      <td>Russia</td>\n",
              "      <td>Adygea Republic</td>\n",
              "      <td>2021-01-09</td>\n",
              "      <td>11726</td>\n",
              "      <td>98</td>\n",
              "      <td>9691.0</td>\n",
              "      <td>1937.0</td>\n",
              "    </tr>\n",
              "  </tbody>\n",
              "</table>\n",
              "</div>\n",
              "      <button class=\"colab-df-convert\" onclick=\"convertToInteractive('df-ec60f20b-cea6-4340-aed4-2ac3f9bc0488')\"\n",
              "              title=\"Convert this dataframe to an interactive table.\"\n",
              "              style=\"display:none;\">\n",
              "        \n",
              "  <svg xmlns=\"http://www.w3.org/2000/svg\" height=\"24px\"viewBox=\"0 0 24 24\"\n",
              "       width=\"24px\">\n",
              "    <path d=\"M0 0h24v24H0V0z\" fill=\"none\"/>\n",
              "    <path d=\"M18.56 5.44l.94 2.06.94-2.06 2.06-.94-2.06-.94-.94-2.06-.94 2.06-2.06.94zm-11 1L8.5 8.5l.94-2.06 2.06-.94-2.06-.94L8.5 2.5l-.94 2.06-2.06.94zm10 10l.94 2.06.94-2.06 2.06-.94-2.06-.94-.94-2.06-.94 2.06-2.06.94z\"/><path d=\"M17.41 7.96l-1.37-1.37c-.4-.4-.92-.59-1.43-.59-.52 0-1.04.2-1.43.59L10.3 9.45l-7.72 7.72c-.78.78-.78 2.05 0 2.83L4 21.41c.39.39.9.59 1.41.59.51 0 1.02-.2 1.41-.59l7.78-7.78 2.81-2.81c.8-.78.8-2.07 0-2.86zM5.41 20L4 18.59l7.72-7.72 1.47 1.35L5.41 20z\"/>\n",
              "  </svg>\n",
              "      </button>\n",
              "      \n",
              "  <style>\n",
              "    .colab-df-container {\n",
              "      display:flex;\n",
              "      flex-wrap:wrap;\n",
              "      gap: 12px;\n",
              "    }\n",
              "\n",
              "    .colab-df-convert {\n",
              "      background-color: #E8F0FE;\n",
              "      border: none;\n",
              "      border-radius: 50%;\n",
              "      cursor: pointer;\n",
              "      display: none;\n",
              "      fill: #1967D2;\n",
              "      height: 32px;\n",
              "      padding: 0 0 0 0;\n",
              "      width: 32px;\n",
              "    }\n",
              "\n",
              "    .colab-df-convert:hover {\n",
              "      background-color: #E2EBFA;\n",
              "      box-shadow: 0px 1px 2px rgba(60, 64, 67, 0.3), 0px 1px 3px 1px rgba(60, 64, 67, 0.15);\n",
              "      fill: #174EA6;\n",
              "    }\n",
              "\n",
              "    [theme=dark] .colab-df-convert {\n",
              "      background-color: #3B4455;\n",
              "      fill: #D2E3FC;\n",
              "    }\n",
              "\n",
              "    [theme=dark] .colab-df-convert:hover {\n",
              "      background-color: #434B5C;\n",
              "      box-shadow: 0px 1px 3px 1px rgba(0, 0, 0, 0.15);\n",
              "      filter: drop-shadow(0px 1px 2px rgba(0, 0, 0, 0.3));\n",
              "      fill: #FFFFFF;\n",
              "    }\n",
              "  </style>\n",
              "\n",
              "      <script>\n",
              "        const buttonEl =\n",
              "          document.querySelector('#df-ec60f20b-cea6-4340-aed4-2ac3f9bc0488 button.colab-df-convert');\n",
              "        buttonEl.style.display =\n",
              "          google.colab.kernel.accessAllowed ? 'block' : 'none';\n",
              "\n",
              "        async function convertToInteractive(key) {\n",
              "          const element = document.querySelector('#df-ec60f20b-cea6-4340-aed4-2ac3f9bc0488');\n",
              "          const dataTable =\n",
              "            await google.colab.kernel.invokeFunction('convertToInteractive',\n",
              "                                                     [key], {});\n",
              "          if (!dataTable) return;\n",
              "\n",
              "          const docLinkHtml = 'Like what you see? Visit the ' +\n",
              "            '<a target=\"_blank\" href=https://colab.research.google.com/notebooks/data_table.ipynb>data table notebook</a>'\n",
              "            + ' to learn more about interactive tables.';\n",
              "          element.innerHTML = '';\n",
              "          dataTable['output_type'] = 'display_data';\n",
              "          await google.colab.output.renderOutput(dataTable, element);\n",
              "          const docLink = document.createElement('div');\n",
              "          docLink.innerHTML = docLinkHtml;\n",
              "          element.appendChild(docLink);\n",
              "        }\n",
              "      </script>\n",
              "    </div>\n",
              "  </div>\n",
              "  "
            ]
          },
          "metadata": {},
          "execution_count": 87
        }
      ]
    },
    {
      "cell_type": "markdown",
      "source": [
        "### Grouping and Aggregating"
      ],
      "metadata": {
        "id": "ZmWNZWuN8c08"
      }
    },
    {
      "cell_type": "markdown",
      "source": [
        "#### Jumlah Provinsi di Russia ada berapa?"
      ],
      "metadata": {
        "id": "DmD65jIRaAGY"
      }
    },
    {
      "cell_type": "code",
      "source": [
        "df[\"provinsi\"].value_counts()"
      ],
      "metadata": {
        "colab": {
          "base_uri": "https://localhost:8080/"
        },
        "id": "lz1MWiqQMs47",
        "outputId": "55583da6-c9f2-4dd2-edb4-324a8cabfb04"
      },
      "execution_count": null,
      "outputs": [
        {
          "output_type": "execute_result",
          "data": {
            "text/plain": [
              "Adygea Republic               365\n",
              "Samara Oblast                 365\n",
              "Sakha (Yakutiya) Republic     365\n",
              "Saint Petersburg              365\n",
              "Ryazan Oblast                 365\n",
              "                             ... \n",
              "Kemerovo Oblast               365\n",
              "Karelia Republic              365\n",
              "Karachay-Cherkess Republic    365\n",
              "Kamchatka Krai                365\n",
              "Zabaykalsky Krai              365\n",
              "Name: provinsi, Length: 83, dtype: int64"
            ]
          },
          "metadata": {},
          "execution_count": 67
        }
      ]
    },
    {
      "cell_type": "markdown",
      "source": [
        "#### Jumlah total yang meninggal di Russia pada tahun 2021?"
      ],
      "metadata": {
        "id": "T72Izi7PaGgO"
      }
    },
    {
      "cell_type": "code",
      "source": [
        "df.loc[df[\"negara\"] == \"Russia\", \"meninggal\"].sum()"
      ],
      "metadata": {
        "colab": {
          "base_uri": "https://localhost:8080/"
        },
        "id": "Je8n8jXeMa-w",
        "outputId": "c8c6aed6-d8a2-4805-d96e-52e0775b05d6"
      },
      "execution_count": null,
      "outputs": [
        {
          "output_type": "execute_result",
          "data": {
            "text/plain": [
              "56152636"
            ]
          },
          "metadata": {},
          "execution_count": 91
        }
      ]
    },
    {
      "cell_type": "markdown",
      "source": [
        "#### Jumlah yang meninggal terbanyak dalam satu hari ada berapa dan dimana?"
      ],
      "metadata": {
        "id": "PGxKupK_VHwo"
      }
    },
    {
      "cell_type": "code",
      "source": [
        "df.loc[df[\"negara\"] == \"Russia\", \"meninggal\"].agg((\"min\", \"max\"))"
      ],
      "metadata": {
        "colab": {
          "base_uri": "https://localhost:8080/"
        },
        "id": "DlW07fWT8jOr",
        "outputId": "8998fe6e-36aa-40df-f45d-0485cd794344"
      },
      "execution_count": null,
      "outputs": [
        {
          "output_type": "execute_result",
          "data": {
            "text/plain": [
              "min        0\n",
              "max    36771\n",
              "Name: meninggal, dtype: int64"
            ]
          },
          "metadata": {},
          "execution_count": 69
        }
      ]
    },
    {
      "cell_type": "code",
      "source": [
        "df[\n",
        "    (df[\"negara\"] == 'Russia') &\n",
        "    (df[\"meninggal\"] == 36771)\n",
        "]"
      ],
      "metadata": {
        "colab": {
          "base_uri": "https://localhost:8080/",
          "height": 81
        },
        "id": "yif_pVyDMrbN",
        "outputId": "84b2c5ac-a816-4953-ba4c-2d2f701fe348"
      },
      "execution_count": null,
      "outputs": [
        {
          "output_type": "execute_result",
          "data": {
            "text/plain": [
              "       negara provinsi     tanggal  terkonfirmasi  meninggal  sembuh  aktif\n",
              "30254  Russia   Moscow  2021-12-31        2030744      36771     NaN    NaN"
            ],
            "text/html": [
              "\n",
              "  <div id=\"df-70017049-604e-4f90-925d-946c9cdd687a\">\n",
              "    <div class=\"colab-df-container\">\n",
              "      <div>\n",
              "<style scoped>\n",
              "    .dataframe tbody tr th:only-of-type {\n",
              "        vertical-align: middle;\n",
              "    }\n",
              "\n",
              "    .dataframe tbody tr th {\n",
              "        vertical-align: top;\n",
              "    }\n",
              "\n",
              "    .dataframe thead th {\n",
              "        text-align: right;\n",
              "    }\n",
              "</style>\n",
              "<table border=\"1\" class=\"dataframe\">\n",
              "  <thead>\n",
              "    <tr style=\"text-align: right;\">\n",
              "      <th></th>\n",
              "      <th>negara</th>\n",
              "      <th>provinsi</th>\n",
              "      <th>tanggal</th>\n",
              "      <th>terkonfirmasi</th>\n",
              "      <th>meninggal</th>\n",
              "      <th>sembuh</th>\n",
              "      <th>aktif</th>\n",
              "    </tr>\n",
              "  </thead>\n",
              "  <tbody>\n",
              "    <tr>\n",
              "      <th>30254</th>\n",
              "      <td>Russia</td>\n",
              "      <td>Moscow</td>\n",
              "      <td>2021-12-31</td>\n",
              "      <td>2030744</td>\n",
              "      <td>36771</td>\n",
              "      <td>NaN</td>\n",
              "      <td>NaN</td>\n",
              "    </tr>\n",
              "  </tbody>\n",
              "</table>\n",
              "</div>\n",
              "      <button class=\"colab-df-convert\" onclick=\"convertToInteractive('df-70017049-604e-4f90-925d-946c9cdd687a')\"\n",
              "              title=\"Convert this dataframe to an interactive table.\"\n",
              "              style=\"display:none;\">\n",
              "        \n",
              "  <svg xmlns=\"http://www.w3.org/2000/svg\" height=\"24px\"viewBox=\"0 0 24 24\"\n",
              "       width=\"24px\">\n",
              "    <path d=\"M0 0h24v24H0V0z\" fill=\"none\"/>\n",
              "    <path d=\"M18.56 5.44l.94 2.06.94-2.06 2.06-.94-2.06-.94-.94-2.06-.94 2.06-2.06.94zm-11 1L8.5 8.5l.94-2.06 2.06-.94-2.06-.94L8.5 2.5l-.94 2.06-2.06.94zm10 10l.94 2.06.94-2.06 2.06-.94-2.06-.94-.94-2.06-.94 2.06-2.06.94z\"/><path d=\"M17.41 7.96l-1.37-1.37c-.4-.4-.92-.59-1.43-.59-.52 0-1.04.2-1.43.59L10.3 9.45l-7.72 7.72c-.78.78-.78 2.05 0 2.83L4 21.41c.39.39.9.59 1.41.59.51 0 1.02-.2 1.41-.59l7.78-7.78 2.81-2.81c.8-.78.8-2.07 0-2.86zM5.41 20L4 18.59l7.72-7.72 1.47 1.35L5.41 20z\"/>\n",
              "  </svg>\n",
              "      </button>\n",
              "      \n",
              "  <style>\n",
              "    .colab-df-container {\n",
              "      display:flex;\n",
              "      flex-wrap:wrap;\n",
              "      gap: 12px;\n",
              "    }\n",
              "\n",
              "    .colab-df-convert {\n",
              "      background-color: #E8F0FE;\n",
              "      border: none;\n",
              "      border-radius: 50%;\n",
              "      cursor: pointer;\n",
              "      display: none;\n",
              "      fill: #1967D2;\n",
              "      height: 32px;\n",
              "      padding: 0 0 0 0;\n",
              "      width: 32px;\n",
              "    }\n",
              "\n",
              "    .colab-df-convert:hover {\n",
              "      background-color: #E2EBFA;\n",
              "      box-shadow: 0px 1px 2px rgba(60, 64, 67, 0.3), 0px 1px 3px 1px rgba(60, 64, 67, 0.15);\n",
              "      fill: #174EA6;\n",
              "    }\n",
              "\n",
              "    [theme=dark] .colab-df-convert {\n",
              "      background-color: #3B4455;\n",
              "      fill: #D2E3FC;\n",
              "    }\n",
              "\n",
              "    [theme=dark] .colab-df-convert:hover {\n",
              "      background-color: #434B5C;\n",
              "      box-shadow: 0px 1px 3px 1px rgba(0, 0, 0, 0.15);\n",
              "      filter: drop-shadow(0px 1px 2px rgba(0, 0, 0, 0.3));\n",
              "      fill: #FFFFFF;\n",
              "    }\n",
              "  </style>\n",
              "\n",
              "      <script>\n",
              "        const buttonEl =\n",
              "          document.querySelector('#df-70017049-604e-4f90-925d-946c9cdd687a button.colab-df-convert');\n",
              "        buttonEl.style.display =\n",
              "          google.colab.kernel.accessAllowed ? 'block' : 'none';\n",
              "\n",
              "        async function convertToInteractive(key) {\n",
              "          const element = document.querySelector('#df-70017049-604e-4f90-925d-946c9cdd687a');\n",
              "          const dataTable =\n",
              "            await google.colab.kernel.invokeFunction('convertToInteractive',\n",
              "                                                     [key], {});\n",
              "          if (!dataTable) return;\n",
              "\n",
              "          const docLinkHtml = 'Like what you see? Visit the ' +\n",
              "            '<a target=\"_blank\" href=https://colab.research.google.com/notebooks/data_table.ipynb>data table notebook</a>'\n",
              "            + ' to learn more about interactive tables.';\n",
              "          element.innerHTML = '';\n",
              "          dataTable['output_type'] = 'display_data';\n",
              "          await google.colab.output.renderOutput(dataTable, element);\n",
              "          const docLink = document.createElement('div');\n",
              "          docLink.innerHTML = docLinkHtml;\n",
              "          element.appendChild(docLink);\n",
              "        }\n",
              "      </script>\n",
              "    </div>\n",
              "  </div>\n",
              "  "
            ]
          },
          "metadata": {},
          "execution_count": 70
        }
      ]
    },
    {
      "cell_type": "markdown",
      "source": [
        "### Pandas Visualization"
      ],
      "metadata": {
        "id": "U9stMMEg8k1g"
      }
    },
    {
      "cell_type": "code",
      "source": [
        "%matplotlib inline"
      ],
      "metadata": {
        "id": "aeaGIU4Q8ptW"
      },
      "execution_count": null,
      "outputs": []
    },
    {
      "cell_type": "markdown",
      "source": [
        "#### Grafik Jumlah Kasus Terkonfirmasi di Provinsi Adegya Republik Selama 2021"
      ],
      "metadata": {
        "id": "SXo12F8fScER"
      }
    },
    {
      "cell_type": "code",
      "source": [
        "df[df[\"provinsi\"] == \"Adygea Republic\"].groupby(\"tanggal\")[\"terkonfirmasi\"].sum().plot()"
      ],
      "metadata": {
        "colab": {
          "base_uri": "https://localhost:8080/",
          "height": 300
        },
        "id": "K2pFt2iHP0Cg",
        "outputId": "43058a70-0269-4eb7-88c5-9fd68aa644d5"
      },
      "execution_count": null,
      "outputs": [
        {
          "output_type": "execute_result",
          "data": {
            "text/plain": [
              "<matplotlib.axes._subplots.AxesSubplot at 0x7f8d50f057f0>"
            ]
          },
          "metadata": {},
          "execution_count": 75
        },
        {
          "output_type": "display_data",
          "data": {
            "text/plain": [
              "<Figure size 432x288 with 1 Axes>"
            ],
            "image/png": "[encoded data removed]"
          },
          "metadata": {
            "needs_background": "light"
          }
        }
      ]
    },
    {
      "cell_type": "markdown",
      "source": [
        "#### Grafik Jumlah Kematian di Provinsi Adegya Republik Selama Bulan Januari 2021"
      ],
      "metadata": {
        "id": "mGJqTyrUSiuB"
      }
    },
    {
      "cell_type": "code",
      "source": [
        "df_adygea = df[df[\"provinsi\"] == \"Adygea Republic\"]"
      ],
      "metadata": {
        "id": "yO2WezWIQjng"
      },
      "execution_count": null,
      "outputs": []
    },
    {
      "cell_type": "code",
      "source": [
        "df_january = df_adygea[(df_adygea['tanggal'] >= '2021-01-01') & (df_adygea['tanggal'] <= '2021-01-31')]"
      ],
      "metadata": {
        "id": "t_vLl24KRttY"
      },
      "execution_count": null,
      "outputs": []
    },
    {
      "cell_type": "code",
      "source": [
        "df_january.groupby(\"tanggal\")[\"meninggal\"].sum().plot()"
      ],
      "metadata": {
        "colab": {
          "base_uri": "https://localhost:8080/",
          "height": 298
        },
        "id": "AL581h9ASJXq",
        "outputId": "e4d836e8-3d52-48bd-eb57-b4a771ffe5de"
      },
      "execution_count": null,
      "outputs": [
        {
          "output_type": "execute_result",
          "data": {
            "text/plain": [
              "<matplotlib.axes._subplots.AxesSubplot at 0x7f8d5098c3d0>"
            ]
          },
          "metadata": {},
          "execution_count": 82
        },
        {
          "output_type": "display_data",
          "data": {
            "text/plain": [
              "<Figure size 432x288 with 1 Axes>"
            ],
            "image/png": "[encoded data removed]"
          },
          "metadata": {
            "needs_background": "light"
          }
        }
      ]
    },
    {
      "cell_type": "markdown",
      "source": [
        "#### Grafik Jumlah Kematian di Provinsi Adegya Republik Selama 2021 dilihat perbulan"
      ],
      "metadata": {
        "id": "xpP_vFWITIRF"
      }
    },
    {
      "cell_type": "code",
      "source": [
        "df_adygea = df[df[\"provinsi\"] == \"Adygea Republic\"]\n",
        "df_adygea = df_adygea[(df_adygea[\"tanggal\"] >= \"2021-01-01\") & (df_adygea[\"tanggal\"] <= \"2021-12-31\")]"
      ],
      "metadata": {
        "id": "QCsVHBg3TgU3"
      },
      "execution_count": null,
      "outputs": []
    },
    {
      "cell_type": "code",
      "source": [
        "df_adygea[\"tanggal\"] = pd.to_datetime(df_adygea[\"tanggal\"])"
      ],
      "metadata": {
        "id": "1LSCx0iaTuUt"
      },
      "execution_count": null,
      "outputs": []
    },
    {
      "cell_type": "code",
      "source": [
        "df_adygea[\"tanggal\"] = df_adygea[\"tanggal\"].dt.to_period(\"M\")"
      ],
      "metadata": {
        "id": "ybrNk-BET7if"
      },
      "execution_count": null,
      "outputs": []
    },
    {
      "cell_type": "code",
      "source": [
        "df_adygea = df_adygea.groupby(\"tanggal\")[\"meninggal\"].sum()\n",
        "df_adygea.plot()"
      ],
      "metadata": {
        "colab": {
          "base_uri": "https://localhost:8080/",
          "height": 311
        },
        "id": "rEQfK69TUB8H",
        "outputId": "72fd038e-1684-44e6-8507-f7dbae773f30"
      },
      "execution_count": null,
      "outputs": [
        {
          "output_type": "execute_result",
          "data": {
            "text/plain": [
              "<matplotlib.axes._subplots.AxesSubplot at 0x7f8d508f1400>"
            ]
          },
          "metadata": {},
          "execution_count": 86
        },
        {
          "output_type": "display_data",
          "data": {
            "text/plain": [
              "<Figure size 432x288 with 1 Axes>"
            ],
            "image/png": "[encoded data removed]"
          },
          "metadata": {
            "needs_background": "light"
          }
        }
      ]
    },
    {
      "cell_type": "markdown",
      "metadata": {
        "id": "ZQwISMC008b-"
      },
      "source": [
        "## Conclusions, Assumptions, Overall Analysis\n",
        "\n",
        "`Secara keseluruhan sudah sedikit memahami, cuma terkadang bingung apa yang mau di cari, dan bagaimana cara mencarinya`"
      ]
    }
  ],
  "metadata": {
    "language_info": {
      "name": "python"
    },
    "orig_nbformat": 4,
    "colab": {
      "provenance": [],
      "include_colab_link": true
    },
    "kernelspec": {
      "name": "python3",
      "display_name": "Python 3"
    },
    "gpuClass": "standard"
  },
  "nbformat": 4,
  "nbformat_minor": 0
}